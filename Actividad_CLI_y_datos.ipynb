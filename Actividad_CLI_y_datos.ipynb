{
  "nbformat": 4,
  "nbformat_minor": 0,
  "metadata": {
    "colab": {
      "provenance": [],
      "authorship_tag": "ABX9TyMgD480G/4CodxwJUQChxgJ",
      "include_colab_link": true
    },
    "kernelspec": {
      "name": "python3",
      "display_name": "Python 3"
    },
    "language_info": {
      "name": "python"
    }
  },
  "cells": [
    {
      "cell_type": "markdown",
      "metadata": {
        "id": "view-in-github",
        "colab_type": "text"
      },
      "source": [
        "<a href=\"https://colab.research.google.com/github/anttox/C8280/blob/main/Actividad_CLI_y_datos.ipynb\" target=\"_parent\"><img src=\"https://colab.research.google.com/assets/colab-badge.svg\" alt=\"Open In Colab\"/></a>"
      ]
    },
    {
      "cell_type": "markdown",
      "source": [
        "# **1. Mire en la parte superior e inferior de data.tsv entregado en esta actividad. Piensa en cómo se estructuran los datos. ¿Qué crees que significa cada columna? ¿Qué crees que significa cada fila?**"
      ],
      "metadata": {
        "id": "yFoZZze1aNrn"
      }
    },
    {
      "cell_type": "markdown",
      "source": [
        "Cada columna se utiliza para organizar y almacenar la informacion de cada fila.\n",
        "\n",
        "Cada fila representa un registro de datos o una entrada especifica como order_id, quantity,\titem_name,\tchoice_description e item_price."
      ],
      "metadata": {
        "id": "wy-c4jkuak_9"
      }
    },
    {
      "cell_type": "code",
      "source": [
        "from google.colab import files\n",
        "\n",
        "# Cargamos el archivo TSV desde el disco local\n",
        "uploaded = files.upload()"
      ],
      "metadata": {
        "colab": {
          "base_uri": "https://localhost:8080/",
          "height": 73
        },
        "id": "gAeIuESv45DF",
        "outputId": "734cbee8-b9fc-4333-8786-4fbd80dd8fb4"
      },
      "execution_count": 1,
      "outputs": [
        {
          "output_type": "display_data",
          "data": {
            "text/plain": [
              "<IPython.core.display.HTML object>"
            ],
            "text/html": [
              "\n",
              "     <input type=\"file\" id=\"files-d94132a9-c114-4f2e-b026-0f9fd898257d\" name=\"files[]\" multiple disabled\n",
              "        style=\"border:none\" />\n",
              "     <output id=\"result-d94132a9-c114-4f2e-b026-0f9fd898257d\">\n",
              "      Upload widget is only available when the cell has been executed in the\n",
              "      current browser session. Please rerun this cell to enable.\n",
              "      </output>\n",
              "      <script>// Copyright 2017 Google LLC\n",
              "//\n",
              "// Licensed under the Apache License, Version 2.0 (the \"License\");\n",
              "// you may not use this file except in compliance with the License.\n",
              "// You may obtain a copy of the License at\n",
              "//\n",
              "//      http://www.apache.org/licenses/LICENSE-2.0\n",
              "//\n",
              "// Unless required by applicable law or agreed to in writing, software\n",
              "// distributed under the License is distributed on an \"AS IS\" BASIS,\n",
              "// WITHOUT WARRANTIES OR CONDITIONS OF ANY KIND, either express or implied.\n",
              "// See the License for the specific language governing permissions and\n",
              "// limitations under the License.\n",
              "\n",
              "/**\n",
              " * @fileoverview Helpers for google.colab Python module.\n",
              " */\n",
              "(function(scope) {\n",
              "function span(text, styleAttributes = {}) {\n",
              "  const element = document.createElement('span');\n",
              "  element.textContent = text;\n",
              "  for (const key of Object.keys(styleAttributes)) {\n",
              "    element.style[key] = styleAttributes[key];\n",
              "  }\n",
              "  return element;\n",
              "}\n",
              "\n",
              "// Max number of bytes which will be uploaded at a time.\n",
              "const MAX_PAYLOAD_SIZE = 100 * 1024;\n",
              "\n",
              "function _uploadFiles(inputId, outputId) {\n",
              "  const steps = uploadFilesStep(inputId, outputId);\n",
              "  const outputElement = document.getElementById(outputId);\n",
              "  // Cache steps on the outputElement to make it available for the next call\n",
              "  // to uploadFilesContinue from Python.\n",
              "  outputElement.steps = steps;\n",
              "\n",
              "  return _uploadFilesContinue(outputId);\n",
              "}\n",
              "\n",
              "// This is roughly an async generator (not supported in the browser yet),\n",
              "// where there are multiple asynchronous steps and the Python side is going\n",
              "// to poll for completion of each step.\n",
              "// This uses a Promise to block the python side on completion of each step,\n",
              "// then passes the result of the previous step as the input to the next step.\n",
              "function _uploadFilesContinue(outputId) {\n",
              "  const outputElement = document.getElementById(outputId);\n",
              "  const steps = outputElement.steps;\n",
              "\n",
              "  const next = steps.next(outputElement.lastPromiseValue);\n",
              "  return Promise.resolve(next.value.promise).then((value) => {\n",
              "    // Cache the last promise value to make it available to the next\n",
              "    // step of the generator.\n",
              "    outputElement.lastPromiseValue = value;\n",
              "    return next.value.response;\n",
              "  });\n",
              "}\n",
              "\n",
              "/**\n",
              " * Generator function which is called between each async step of the upload\n",
              " * process.\n",
              " * @param {string} inputId Element ID of the input file picker element.\n",
              " * @param {string} outputId Element ID of the output display.\n",
              " * @return {!Iterable<!Object>} Iterable of next steps.\n",
              " */\n",
              "function* uploadFilesStep(inputId, outputId) {\n",
              "  const inputElement = document.getElementById(inputId);\n",
              "  inputElement.disabled = false;\n",
              "\n",
              "  const outputElement = document.getElementById(outputId);\n",
              "  outputElement.innerHTML = '';\n",
              "\n",
              "  const pickedPromise = new Promise((resolve) => {\n",
              "    inputElement.addEventListener('change', (e) => {\n",
              "      resolve(e.target.files);\n",
              "    });\n",
              "  });\n",
              "\n",
              "  const cancel = document.createElement('button');\n",
              "  inputElement.parentElement.appendChild(cancel);\n",
              "  cancel.textContent = 'Cancel upload';\n",
              "  const cancelPromise = new Promise((resolve) => {\n",
              "    cancel.onclick = () => {\n",
              "      resolve(null);\n",
              "    };\n",
              "  });\n",
              "\n",
              "  // Wait for the user to pick the files.\n",
              "  const files = yield {\n",
              "    promise: Promise.race([pickedPromise, cancelPromise]),\n",
              "    response: {\n",
              "      action: 'starting',\n",
              "    }\n",
              "  };\n",
              "\n",
              "  cancel.remove();\n",
              "\n",
              "  // Disable the input element since further picks are not allowed.\n",
              "  inputElement.disabled = true;\n",
              "\n",
              "  if (!files) {\n",
              "    return {\n",
              "      response: {\n",
              "        action: 'complete',\n",
              "      }\n",
              "    };\n",
              "  }\n",
              "\n",
              "  for (const file of files) {\n",
              "    const li = document.createElement('li');\n",
              "    li.append(span(file.name, {fontWeight: 'bold'}));\n",
              "    li.append(span(\n",
              "        `(${file.type || 'n/a'}) - ${file.size} bytes, ` +\n",
              "        `last modified: ${\n",
              "            file.lastModifiedDate ? file.lastModifiedDate.toLocaleDateString() :\n",
              "                                    'n/a'} - `));\n",
              "    const percent = span('0% done');\n",
              "    li.appendChild(percent);\n",
              "\n",
              "    outputElement.appendChild(li);\n",
              "\n",
              "    const fileDataPromise = new Promise((resolve) => {\n",
              "      const reader = new FileReader();\n",
              "      reader.onload = (e) => {\n",
              "        resolve(e.target.result);\n",
              "      };\n",
              "      reader.readAsArrayBuffer(file);\n",
              "    });\n",
              "    // Wait for the data to be ready.\n",
              "    let fileData = yield {\n",
              "      promise: fileDataPromise,\n",
              "      response: {\n",
              "        action: 'continue',\n",
              "      }\n",
              "    };\n",
              "\n",
              "    // Use a chunked sending to avoid message size limits. See b/62115660.\n",
              "    let position = 0;\n",
              "    do {\n",
              "      const length = Math.min(fileData.byteLength - position, MAX_PAYLOAD_SIZE);\n",
              "      const chunk = new Uint8Array(fileData, position, length);\n",
              "      position += length;\n",
              "\n",
              "      const base64 = btoa(String.fromCharCode.apply(null, chunk));\n",
              "      yield {\n",
              "        response: {\n",
              "          action: 'append',\n",
              "          file: file.name,\n",
              "          data: base64,\n",
              "        },\n",
              "      };\n",
              "\n",
              "      let percentDone = fileData.byteLength === 0 ?\n",
              "          100 :\n",
              "          Math.round((position / fileData.byteLength) * 100);\n",
              "      percent.textContent = `${percentDone}% done`;\n",
              "\n",
              "    } while (position < fileData.byteLength);\n",
              "  }\n",
              "\n",
              "  // All done.\n",
              "  yield {\n",
              "    response: {\n",
              "      action: 'complete',\n",
              "    }\n",
              "  };\n",
              "}\n",
              "\n",
              "scope.google = scope.google || {};\n",
              "scope.google.colab = scope.google.colab || {};\n",
              "scope.google.colab._files = {\n",
              "  _uploadFiles,\n",
              "  _uploadFilesContinue,\n",
              "};\n",
              "})(self);\n",
              "</script> "
            ]
          },
          "metadata": {}
        },
        {
          "output_type": "stream",
          "name": "stdout",
          "text": [
            "Saving data.tsv.txt to data.tsv.txt\n"
          ]
        }
      ]
    },
    {
      "cell_type": "markdown",
      "source": [
        "# **2. ¿Cuántos pedidos parece haber?**"
      ],
      "metadata": {
        "id": "sh1Dv5ad7U7M"
      }
    },
    {
      "cell_type": "code",
      "source": [
        "import pandas as pd\n",
        "\n",
        "# Especificamos el nombre del archivo TSV que hemos cargado de nuestro disco local\n",
        "nombre_archivo = \"data.tsv.txt\"\n",
        "\n",
        "# Leemos el archivo TSV utilizando la biblioteca pandas\n",
        "df = pd.read_csv(nombre_archivo, delimiter='\\t')\n",
        "\n",
        "# imprimimos el contenido del archivo\n",
        "print(df)"
      ],
      "metadata": {
        "id": "RCRjxub348d8",
        "colab": {
          "base_uri": "https://localhost:8080/"
        },
        "outputId": "13703ffa-af5c-454c-f52b-0e6315d90213"
      },
      "execution_count": 2,
      "outputs": [
        {
          "output_type": "stream",
          "name": "stdout",
          "text": [
            "      order_id  quantity                              item_name  \\\n",
            "0            1         1           Chips and Fresh Tomato Salsa   \n",
            "1            1         1                                   Izze   \n",
            "2            1         1                       Nantucket Nectar   \n",
            "3            1         1  Chips and Tomatillo-Green Chili Salsa   \n",
            "4            2         2                           Chicken Bowl   \n",
            "...        ...       ...                                    ...   \n",
            "4617      1833         1                          Steak Burrito   \n",
            "4618      1833         1                          Steak Burrito   \n",
            "4619      1834         1                     Chicken Salad Bowl   \n",
            "4620      1834         1                     Chicken Salad Bowl   \n",
            "4621      1834         1                     Chicken Salad Bowl   \n",
            "\n",
            "                                     choice_description item_price  \n",
            "0                                                   NaN     $2.39   \n",
            "1                                          [Clementine]     $3.39   \n",
            "2                                               [Apple]     $3.39   \n",
            "3                                                   NaN     $2.39   \n",
            "4     [Tomatillo-Red Chili Salsa (Hot), [Black Beans...    $16.98   \n",
            "...                                                 ...        ...  \n",
            "4617  [Fresh Tomato Salsa, [Rice, Black Beans, Sour ...    $11.75   \n",
            "4618  [Fresh Tomato Salsa, [Rice, Sour Cream, Cheese...    $11.75   \n",
            "4619  [Fresh Tomato Salsa, [Fajita Vegetables, Pinto...    $11.25   \n",
            "4620  [Fresh Tomato Salsa, [Fajita Vegetables, Lettu...     $8.75   \n",
            "4621  [Fresh Tomato Salsa, [Fajita Vegetables, Pinto...     $8.75   \n",
            "\n",
            "[4622 rows x 5 columns]\n"
          ]
        }
      ]
    },
    {
      "cell_type": "code",
      "source": [
        "import csv\n",
        "#Creamos una funcion para contar el numero de pedidos\n",
        "def count_ids(nombre_archivo):\n",
        "    with open(nombre_archivo, 'r', newline='') as tsvfile:\n",
        "        reader = csv.reader(tsvfile, delimiter='\\t')\n",
        "        ids = set()  # Utilizamos un conjunto para evitar contar IDs duplicadas\n",
        "        for row in reader:\n",
        "            if len(row) > 0:\n",
        "                ids.add(row[0])  # Suponemos que la ID está en la primera columna del archivo TSV\n",
        "    return len(ids)\n"
      ],
      "metadata": {
        "id": "Aja416xM5Qdl"
      },
      "execution_count": 3,
      "outputs": []
    },
    {
      "cell_type": "code",
      "source": [
        "# Llamada a la función para contar las order_ids\n",
        "count = count_ids(nombre_archivo)\n",
        "print(f\"El archivo TSV contiene {count} order_ids.\")"
      ],
      "metadata": {
        "colab": {
          "base_uri": "https://localhost:8080/"
        },
        "id": "1AqPLnVP6Uj1",
        "outputId": "2f3d660a-0c2e-45df-ce38-1db8eb8b45c2"
      },
      "execution_count": 4,
      "outputs": [
        {
          "output_type": "stream",
          "name": "stdout",
          "text": [
            "El archivo TSV contiene 1835 order_ids.\n"
          ]
        }
      ]
    },
    {
      "cell_type": "markdown",
      "source": [
        "# **3. ¿Cuántas líneas hay en este archivo?**"
      ],
      "metadata": {
        "id": "CXvfNnbg7pv1"
      }
    },
    {
      "cell_type": "code",
      "source": [
        "# Abrir el archivo TSV en modo lectura\n",
        "with open('data.tsv.txt', 'r') as file:\n",
        "    # Leer todas las líneas del archivo\n",
        "    lines = file.readlines()"
      ],
      "metadata": {
        "id": "ihCAR3ZJ7yRo"
      },
      "execution_count": 5,
      "outputs": []
    },
    {
      "cell_type": "code",
      "source": [
        "# Contamos las líneas\n",
        "line_count = len(lines)\n",
        "\n",
        "# Imprimimos el resultado\n",
        "print(\"Número de líneas:\", line_count)"
      ],
      "metadata": {
        "colab": {
          "base_uri": "https://localhost:8080/"
        },
        "id": "mLsK-Hg_7pEj",
        "outputId": "dedc62ca-00a4-437b-a130-a510fabc5362"
      },
      "execution_count": 6,
      "outputs": [
        {
          "output_type": "stream",
          "name": "stdout",
          "text": [
            "Número de líneas: 4624\n"
          ]
        }
      ]
    },
    {
      "cell_type": "markdown",
      "source": [
        "# **4. ¿Qué burrito es más popular, steak o chicken?**"
      ],
      "metadata": {
        "id": "lhaIXWQb81FD"
      }
    },
    {
      "cell_type": "code",
      "source": [
        "# Filtramos solo las filas que contienen la palabra \"burrito\" en la columna \"item_name\"\n",
        "burrito_df = df[df['item_name'].str.contains('burrito', case=False)]\n",
        "\n",
        "# Contar la frecuencia de cada burrito\n",
        "popular_burrito = burrito_df['item_name'].value_counts().idxmax()\n",
        "\n",
        "# Imprimimos el burrito más popular\n",
        "print(\"El burrito más popular es:\", popular_burrito)"
      ],
      "metadata": {
        "colab": {
          "base_uri": "https://localhost:8080/"
        },
        "id": "M6w0JZ5F73yr",
        "outputId": "d4e263ab-d521-4ce0-8a77-9510d6590882"
      },
      "execution_count": 7,
      "outputs": [
        {
          "output_type": "stream",
          "name": "stdout",
          "text": [
            "El burrito más popular es: Chicken Burrito\n"
          ]
        }
      ]
    },
    {
      "cell_type": "markdown",
      "source": [
        "# **5. ¿Los burritos de pollo suelen tener frijoles negros o frijoles pintos?**"
      ],
      "metadata": {
        "id": "0uWHyPpz_iH3"
      }
    },
    {
      "cell_type": "code",
      "source": [
        "# Filtrar solo las filas que contienen \"chicken burrito\" en la columna \"item_name\"\n",
        "burritos_de_pollo = df[df['item_name'].str.contains('Chicken Burrito', case=False)]\n",
        "\n",
        "# Filtrar solo las filas que contienen \"frijoles negros\" en la columna \"choice_description\"\n",
        "frijoles_negros = burritos_de_pollo['choice_description'].str.contains('Black Beans', case=False)\n",
        "\n",
        "# Filtrar solo las filas que contienen \"frijoles pintos\" en la columna \"choice_description\"\n",
        "frijoles_pintos = burritos_de_pollo['choice_description'].str.contains('Pinto Beans', case=False)\n",
        "\n",
        "# Calcular la frecuencia de cada tipo de frijoles\n",
        "frijoles_negros_freq = len(frijoles_negros)\n",
        "frijoles_pintos_freq = len(frijoles_pintos)\n",
        "\n",
        "# Imprimir las frecuencias\n",
        "print(\"Frecuencia de frijoles negros:\", frijoles_negros_freq)\n",
        "print(\"Frecuencia de frijoles pintos:\", frijoles_pintos_freq)"
      ],
      "metadata": {
        "colab": {
          "base_uri": "https://localhost:8080/"
        },
        "id": "7MvZX0Xb_huD",
        "outputId": "a63d4d9a-2d91-491b-dcf3-5dc227455a6c"
      },
      "execution_count": 8,
      "outputs": [
        {
          "output_type": "stream",
          "name": "stdout",
          "text": [
            "Frecuencia de frijoles negros: 553\n",
            "Frecuencia de frijoles pintos: 553\n"
          ]
        }
      ]
    },
    {
      "cell_type": "markdown",
      "source": [
        "# **6. Usa la línea de comandos para descubrir algo interesante sobre los datos dados.**"
      ],
      "metadata": {
        "id": "-UFE9zLzdHWW"
      }
    },
    {
      "cell_type": "code",
      "source": [
        "# Crear un diccionario para almacenar el precio de cada ítem\n",
        "item_price = {}\n",
        "\n",
        "# Iterar sobre cada fila del DataFrame\n",
        "for index, row in df.iterrows():\n",
        "    item_name = row['item_name']\n",
        "    item_prices = row['item_price']\n",
        "    item_price[item_name] = item_prices\n",
        "\n",
        "# Mostrar los precios de cada ítem\n",
        "for item_name, item_price in item_price.items():\n",
        "    print(f\"El precio de {item_name} es: {item_price}\")"
      ],
      "metadata": {
        "colab": {
          "base_uri": "https://localhost:8080/"
        },
        "id": "MPw9VFfVdLcX",
        "outputId": "cbbe0ee1-1bf9-4e9c-998f-1ad6fdd4d278"
      },
      "execution_count": 11,
      "outputs": [
        {
          "output_type": "stream",
          "name": "stdout",
          "text": [
            "El precio de Chips and Fresh Tomato Salsa es: $2.95 \n",
            "El precio de Izze es: $3.39 \n",
            "El precio de Nantucket Nectar es: $3.39 \n",
            "El precio de Chips and Tomatillo-Green Chili Salsa es: $2.39 \n",
            "El precio de Chicken Bowl es: $8.75 \n",
            "El precio de Side of Chips es: $1.69 \n",
            "El precio de Steak Burrito es: $11.75 \n",
            "El precio de Steak Soft Tacos es: $9.25 \n",
            "El precio de Chips and Guacamole es: $4.45 \n",
            "El precio de Chicken Crispy Tacos es: $8.75 \n",
            "El precio de Chicken Soft Tacos es: $8.75 \n",
            "El precio de Chicken Burrito es: $8.75 \n",
            "El precio de Canned Soda es: $1.09 \n",
            "El precio de Barbacoa Burrito es: $9.25 \n",
            "El precio de Carnitas Burrito es: $9.25 \n",
            "El precio de Carnitas Bowl es: $9.25 \n",
            "El precio de Bottled Water es: $1.50 \n",
            "El precio de Chips and Tomatillo Green Chili Salsa es: $2.95 \n",
            "El precio de Barbacoa Bowl es: $11.75 \n",
            "El precio de Chips es: $2.15 \n",
            "El precio de Chicken Salad Bowl es: $8.75 \n",
            "El precio de Steak Bowl es: $11.75 \n",
            "El precio de Barbacoa Soft Tacos es: $9.25 \n",
            "El precio de Veggie Burrito es: $11.25 \n",
            "El precio de Veggie Bowl es: $11.25 \n",
            "El precio de Steak Crispy Tacos es: $11.75 \n",
            "El precio de Chips and Tomatillo Red Chili Salsa es: $2.95 \n",
            "El precio de Barbacoa Crispy Tacos es: $8.99 \n",
            "El precio de Veggie Salad Bowl es: $8.75 \n",
            "El precio de Chips and Roasted Chili-Corn Salsa es: $2.39 \n",
            "El precio de Chips and Roasted Chili Corn Salsa es: $2.95 \n",
            "El precio de Carnitas Soft Tacos es: $9.25 \n",
            "El precio de Chicken Salad es: $8.19 \n",
            "El precio de Canned Soft Drink es: $1.25 \n",
            "El precio de Steak Salad Bowl es: $9.39 \n",
            "El precio de 6 Pack Soft Drink es: $6.49 \n",
            "El precio de Chips and Tomatillo-Red Chili Salsa es: $2.39 \n",
            "El precio de Bowl es: $7.40 \n",
            "El precio de Burrito es: $7.40 \n",
            "El precio de Crispy Tacos es: $7.40 \n",
            "El precio de Carnitas Crispy Tacos es: $9.25 \n",
            "El precio de Steak Salad es: $8.69 \n",
            "El precio de Chips and Mild Fresh Tomato Salsa es: $3.00 \n",
            "El precio de Veggie Soft Tacos es: $16.98 \n",
            "El precio de Carnitas Salad Bowl es: $11.89 \n",
            "El precio de Barbacoa Salad Bowl es: $9.39 \n",
            "El precio de Salad es: $7.40 \n",
            "El precio de Veggie Crispy Tacos es: $8.49 \n",
            "El precio de Veggie Salad es: $8.49 \n",
            "El precio de Carnitas Salad es: $8.99 \n"
          ]
        }
      ]
    }
  ]
}